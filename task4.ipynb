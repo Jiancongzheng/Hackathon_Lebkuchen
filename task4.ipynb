{
 "cells": [
  {
   "cell_type": "markdown",
   "metadata": {},
   "source": [
    "# Hackingforfuture Task 4 - Predictive Quality Data Analysis"
   ]
  },
  {
   "cell_type": "markdown",
   "metadata": {},
   "source": [
    "some details on this hackathon... To be filled during the presentation phase."
   ]
  },
  {
   "cell_type": "markdown",
   "metadata": {},
   "source": [
    "# Import Libs"
   ]
  },
  {
   "cell_type": "code",
   "execution_count": 1,
   "metadata": {},
   "outputs": [],
   "source": [
    "import numpy as np\n",
    "import pandas as pd\n",
    "import feature_engine as fe"
   ]
  },
  {
   "cell_type": "markdown",
   "metadata": {},
   "source": [
    "# Loading file\n",
    "The file in our case is transformed into csv-file."
   ]
  },
  {
   "cell_type": "code",
   "execution_count": 2,
   "metadata": {},
   "outputs": [
    {
     "data": {
      "text/html": [
       "<div>\n",
       "<style scoped>\n",
       "    .dataframe tbody tr th:only-of-type {\n",
       "        vertical-align: middle;\n",
       "    }\n",
       "\n",
       "    .dataframe tbody tr th {\n",
       "        vertical-align: top;\n",
       "    }\n",
       "\n",
       "    .dataframe thead th {\n",
       "        text-align: right;\n",
       "    }\n",
       "</style>\n",
       "<table border=\"1\" class=\"dataframe\">\n",
       "  <thead>\n",
       "    <tr style=\"text-align: right;\">\n",
       "      <th></th>\n",
       "      <th>Time</th>\n",
       "      <th>Date</th>\n",
       "      <th>asm_Force #D</th>\n",
       "      <th>asm_Length #E</th>\n",
       "      <th>asm_Height #F</th>\n",
       "      <th>asm_Press-fit #G</th>\n",
       "      <th>asm_force #H</th>\n",
       "      <th>asm_Length #I</th>\n",
       "      <th>asm_Depth #J</th>\n",
       "      <th>asm_depth #K</th>\n",
       "      <th>...</th>\n",
       "      <th>fin_Tracking, Zone3 #BU</th>\n",
       "      <th>fin_Tracking, Zone4 #BV</th>\n",
       "      <th>fin_Tracking, Zone1, G #BW</th>\n",
       "      <th>fin_Tracking, Zone2, G #BX</th>\n",
       "      <th>fin_Tracking, Zone3, G #BY</th>\n",
       "      <th>fin_Tracking, Zone4, G #BZ</th>\n",
       "      <th>fin_Shape #CA</th>\n",
       "      <th>fin_pressure #CB</th>\n",
       "      <th>fin_flow #CC</th>\n",
       "      <th>fin_temperature #CD</th>\n",
       "    </tr>\n",
       "  </thead>\n",
       "  <tbody>\n",
       "    <tr>\n",
       "      <td>0</td>\n",
       "      <td>02:02:09</td>\n",
       "      <td>03.01.18</td>\n",
       "      <td>0.149</td>\n",
       "      <td>102.52</td>\n",
       "      <td>0.215</td>\n",
       "      <td>12.747</td>\n",
       "      <td>1.094</td>\n",
       "      <td>135.43</td>\n",
       "      <td>1.8541</td>\n",
       "      <td>1.8517</td>\n",
       "      <td>...</td>\n",
       "      <td>96000.0</td>\n",
       "      <td>139700.0</td>\n",
       "      <td>0.14</td>\n",
       "      <td>0.12</td>\n",
       "      <td>0.07</td>\n",
       "      <td>0.08</td>\n",
       "      <td>V-shape</td>\n",
       "      <td>2.915</td>\n",
       "      <td>0.828</td>\n",
       "      <td>88.15</td>\n",
       "    </tr>\n",
       "    <tr>\n",
       "      <td>1</td>\n",
       "      <td>02:02:41</td>\n",
       "      <td>03.01.18</td>\n",
       "      <td>0.163</td>\n",
       "      <td>102.61</td>\n",
       "      <td>0.191</td>\n",
       "      <td>12.731</td>\n",
       "      <td>1.116</td>\n",
       "      <td>135.48</td>\n",
       "      <td>1.8583</td>\n",
       "      <td>1.8556</td>\n",
       "      <td>...</td>\n",
       "      <td>97800.0</td>\n",
       "      <td>138100.0</td>\n",
       "      <td>0.16</td>\n",
       "      <td>0.14</td>\n",
       "      <td>0.06</td>\n",
       "      <td>0.12</td>\n",
       "      <td>V-shape</td>\n",
       "      <td>2.933</td>\n",
       "      <td>1.068</td>\n",
       "      <td>89.14</td>\n",
       "    </tr>\n",
       "    <tr>\n",
       "      <td>2</td>\n",
       "      <td>02:05:06</td>\n",
       "      <td>03.01.18</td>\n",
       "      <td>0.160</td>\n",
       "      <td>102.56</td>\n",
       "      <td>0.192</td>\n",
       "      <td>12.734</td>\n",
       "      <td>1.033</td>\n",
       "      <td>135.48</td>\n",
       "      <td>1.8533</td>\n",
       "      <td>1.8487</td>\n",
       "      <td>...</td>\n",
       "      <td>112100.0</td>\n",
       "      <td>140000.0</td>\n",
       "      <td>0.04</td>\n",
       "      <td>0.03</td>\n",
       "      <td>0.02</td>\n",
       "      <td>0.15</td>\n",
       "      <td>V-shape</td>\n",
       "      <td>2.916</td>\n",
       "      <td>0.828</td>\n",
       "      <td>87.30</td>\n",
       "    </tr>\n",
       "    <tr>\n",
       "      <td>3</td>\n",
       "      <td>02:05:31</td>\n",
       "      <td>03.01.18</td>\n",
       "      <td>0.158</td>\n",
       "      <td>102.47</td>\n",
       "      <td>0.195</td>\n",
       "      <td>12.726</td>\n",
       "      <td>1.079</td>\n",
       "      <td>135.48</td>\n",
       "      <td>1.8578</td>\n",
       "      <td>1.8546</td>\n",
       "      <td>...</td>\n",
       "      <td>96000.0</td>\n",
       "      <td>140000.0</td>\n",
       "      <td>0.25</td>\n",
       "      <td>0.20</td>\n",
       "      <td>0.07</td>\n",
       "      <td>0.18</td>\n",
       "      <td>Ascending</td>\n",
       "      <td>2.925</td>\n",
       "      <td>1.068</td>\n",
       "      <td>88.68</td>\n",
       "    </tr>\n",
       "    <tr>\n",
       "      <td>4</td>\n",
       "      <td>02:08:00</td>\n",
       "      <td>03.01.18</td>\n",
       "      <td>0.154</td>\n",
       "      <td>102.61</td>\n",
       "      <td>0.207</td>\n",
       "      <td>12.752</td>\n",
       "      <td>1.061</td>\n",
       "      <td>135.48</td>\n",
       "      <td>1.8594</td>\n",
       "      <td>1.8543</td>\n",
       "      <td>...</td>\n",
       "      <td>100500.0</td>\n",
       "      <td>137700.0</td>\n",
       "      <td>0.14</td>\n",
       "      <td>0.13</td>\n",
       "      <td>0.10</td>\n",
       "      <td>0.23</td>\n",
       "      <td>Ascending</td>\n",
       "      <td>2.904</td>\n",
       "      <td>0.816</td>\n",
       "      <td>87.29</td>\n",
       "    </tr>\n",
       "  </tbody>\n",
       "</table>\n",
       "<p>5 rows × 78 columns</p>\n",
       "</div>"
      ],
      "text/plain": [
       "       Time      Date  asm_Force #D  asm_Length #E  asm_Height #F  \\\n",
       "0  02:02:09  03.01.18         0.149         102.52          0.215   \n",
       "1  02:02:41  03.01.18         0.163         102.61          0.191   \n",
       "2  02:05:06  03.01.18         0.160         102.56          0.192   \n",
       "3  02:05:31  03.01.18         0.158         102.47          0.195   \n",
       "4  02:08:00  03.01.18         0.154         102.61          0.207   \n",
       "\n",
       "   asm_Press-fit #G  asm_force #H  asm_Length #I  asm_Depth #J  asm_depth #K  \\\n",
       "0            12.747         1.094         135.43        1.8541        1.8517   \n",
       "1            12.731         1.116         135.48        1.8583        1.8556   \n",
       "2            12.734         1.033         135.48        1.8533        1.8487   \n",
       "3            12.726         1.079         135.48        1.8578        1.8546   \n",
       "4            12.752         1.061         135.48        1.8594        1.8543   \n",
       "\n",
       "   ...  fin_Tracking, Zone3 #BU  fin_Tracking, Zone4 #BV  \\\n",
       "0  ...                  96000.0                 139700.0   \n",
       "1  ...                  97800.0                 138100.0   \n",
       "2  ...                 112100.0                 140000.0   \n",
       "3  ...                  96000.0                 140000.0   \n",
       "4  ...                 100500.0                 137700.0   \n",
       "\n",
       "   fin_Tracking, Zone1, G #BW  fin_Tracking, Zone2, G #BX  \\\n",
       "0                        0.14                        0.12   \n",
       "1                        0.16                        0.14   \n",
       "2                        0.04                        0.03   \n",
       "3                        0.25                        0.20   \n",
       "4                        0.14                        0.13   \n",
       "\n",
       "   fin_Tracking, Zone3, G #BY  fin_Tracking, Zone4, G #BZ  fin_Shape #CA  \\\n",
       "0                        0.07                        0.08        V-shape   \n",
       "1                        0.06                        0.12        V-shape   \n",
       "2                        0.02                        0.15        V-shape   \n",
       "3                        0.07                        0.18      Ascending   \n",
       "4                        0.10                        0.23      Ascending   \n",
       "\n",
       "   fin_pressure #CB  fin_flow #CC  fin_temperature #CD  \n",
       "0             2.915         0.828                88.15  \n",
       "1             2.933         1.068                89.14  \n",
       "2             2.916         0.828                87.30  \n",
       "3             2.925         1.068                88.68  \n",
       "4             2.904         0.816                87.29  \n",
       "\n",
       "[5 rows x 78 columns]"
      ]
     },
     "execution_count": 2,
     "metadata": {},
     "output_type": "execute_result"
    }
   ],
   "source": [
    "filename = 'csvdata.csv'\n",
    "df = pd.read_csv(filename)\n",
    "df.head()"
   ]
  },
  {
   "cell_type": "markdown",
   "metadata": {},
   "source": [
    "## Distinguish columns\n",
    "Due to my laziness to join data table, I created one universal dataframe with prepended column names: `asm_`, `int_`, and `fin_` which stand for assembly data, initial inspection data, and final inspection data respectively."
   ]
  },
  {
   "cell_type": "code",
   "execution_count": 3,
   "metadata": {
    "scrolled": true
   },
   "outputs": [
    {
     "data": {
      "text/plain": [
       "['Ti',\n",
       " 'Da',\n",
       " 'asm_Force',\n",
       " 'asm_Length',\n",
       " 'asm_Height',\n",
       " 'asm_Press-fit',\n",
       " 'asm_force',\n",
       " 'asm_Length',\n",
       " 'asm_Depth',\n",
       " 'asm_depth',\n",
       " 'asm_Depth',\n",
       " 'asm_parallelism',\n",
       " 'asm_force',\n",
       " 'asm_Length',\n",
       " 'asm_force',\n",
       " 'asm_Length',\n",
       " 'asm_torque 1',\n",
       " 'asm_angle 1',\n",
       " 'asm_torque 2',\n",
       " 'asm_angle 2',\n",
       " 'asm_torque 3',\n",
       " 'asm_angle 3',\n",
       " 'asm_torque 1',\n",
       " 'asm_torque 2',\n",
       " 'asm_torque 3',\n",
       " 'asm_angle 1',\n",
       " 'asm_angle 2',\n",
       " 'asm_angle 3',\n",
       " 'asm_torque 1',\n",
       " 'asm_torque 2',\n",
       " 'asm_torque 3',\n",
       " 'asm_torque 4',\n",
       " 'asm_angle 1',\n",
       " 'asm_angle 2',\n",
       " 'asm_angle 3',\n",
       " 'asm_angle 4',\n",
       " 'asm_temperature',\n",
       " 'asm_force',\n",
       " 'asm_Length',\n",
       " 'asm_force',\n",
       " 'asm_Temperature',\n",
       " 'asm_angle',\n",
       " 'asm_torque',\n",
       " 'asm_angle',\n",
       " 'asm_torque',\n",
       " 'asm_clearance',\n",
       " 'int_weight',\n",
       " 'int_Angle position ',\n",
       " 'int_weight',\n",
       " 'int_Angle position',\n",
       " 'int_Tracking, Zone1',\n",
       " 'int_Tracking, Zone2',\n",
       " 'int_Tracking, Zone3',\n",
       " 'int_Tracking, Zone4',\n",
       " 'int_Tracking, Zone1, G',\n",
       " 'int_Tracking, Zone2, G',\n",
       " 'int_Tracking, Zone3, G',\n",
       " 'int_Tracking, Zone4, G',\n",
       " 'int_Shape',\n",
       " 'int_pressure',\n",
       " 'int_flow',\n",
       " 'int_temperature',\n",
       " 'fin_weight',\n",
       " 'fin_Angle',\n",
       " 'fin_weight',\n",
       " 'fin_Angle',\n",
       " 'fin_Tracking, Zoe1',\n",
       " 'fin_Tracking, Zone2',\n",
       " 'fin_Tracking, Zone3',\n",
       " 'fin_Tracking, Zone4',\n",
       " 'fin_Tracking, Zone1, G',\n",
       " 'fin_Tracking, Zone2, G',\n",
       " 'fin_Tracking, Zone3, G',\n",
       " 'fin_Tracking, Zone4, G',\n",
       " 'fin_Shape',\n",
       " 'fin_pressure',\n",
       " 'fin_flow',\n",
       " 'fin_temperature']"
      ]
     },
     "execution_count": 3,
     "metadata": {},
     "output_type": "execute_result"
    }
   ],
   "source": [
    "cols = df.columns.tolist()\n",
    "# remove # from column names\n",
    "for idc, c in enumerate(cols):\n",
    "    for idx, char in enumerate(c):\n",
    "        if char == '#':\n",
    "            break\n",
    "    cols[idc] = c[:idx-1]\n",
    "cols"
   ]
  },
  {
   "cell_type": "code",
   "execution_count": 18,
   "metadata": {},
   "outputs": [
    {
     "name": "stdout",
     "output_type": "stream",
     "text": [
      "Assembly data columns: 44\n",
      "Initial inspection data columns: 16\n",
      "Final inspection data columns: 16\n"
     ]
    }
   ],
   "source": [
    "def redefine_cols(cols):\n",
    "    cols_asm = [c for c in cols if 'asm_' == c[:4]]\n",
    "    cols_int = [c for c in cols if 'int_' == c[:4]]\n",
    "    cols_fin = [c for c in cols if 'fin_' == c[:4]]\n",
    "    return cols_asm, cols_int, cols_fin\n",
    "cols_asm, cols_int, cols_fin = redefine_cols(cols)\n",
    "print(\"Assembly data columns: {}\".format(len(cols_asm)))\n",
    "print(\"Initial inspection data columns: {}\".format(len(cols_int)))\n",
    "print(\"Final inspection data columns: {}\".format(len(cols_fin)))"
   ]
  },
  {
   "cell_type": "code",
   "execution_count": 5,
   "metadata": {},
   "outputs": [],
   "source": [
    "df.columns = cols"
   ]
  },
  {
   "cell_type": "markdown",
   "metadata": {},
   "source": [
    "# Exploratory Data Analysis\n",
    "This part involves EDA process. The first step is to find Nan."
   ]
  },
  {
   "cell_type": "code",
   "execution_count": 6,
   "metadata": {
    "scrolled": true
   },
   "outputs": [
    {
     "data": {
      "text/plain": [
       "Ti                        0.000000\n",
       "Da                        0.000000\n",
       "asm_Force                 0.000000\n",
       "asm_Length                0.000000\n",
       "asm_Height                0.000000\n",
       "                            ...   \n",
       "fin_Tracking, Zone4, G    0.042976\n",
       "fin_Shape                 0.042976\n",
       "fin_pressure              0.042976\n",
       "fin_flow                  0.042976\n",
       "fin_temperature           0.042976\n",
       "Length: 78, dtype: float64"
      ]
     },
     "execution_count": 6,
     "metadata": {},
     "output_type": "execute_result"
    }
   ],
   "source": [
    "# Find Nan\n",
    "df.isnull().mean()"
   ]
  },
  {
   "cell_type": "markdown",
   "metadata": {},
   "source": [
    "There are around 5% of Nan in this data set. From the readme file, this is due to quality stuffs or whatever. The Nan are only in the final inspection."
   ]
  },
  {
   "cell_type": "code",
   "execution_count": 7,
   "metadata": {
    "scrolled": true
   },
   "outputs": [
    {
     "name": "stdout",
     "output_type": "stream",
     "text": [
      "<class 'pandas.core.frame.DataFrame'>\n",
      "RangeIndex: 16963 entries, 0 to 16962\n",
      "Data columns (total 78 columns):\n",
      "Ti                        16963 non-null object\n",
      "Da                        16963 non-null object\n",
      "asm_Force                 16963 non-null float64\n",
      "asm_Length                16963 non-null float64\n",
      "asm_Height                16963 non-null float64\n",
      "asm_Press-fit             16963 non-null float64\n",
      "asm_force                 16963 non-null float64\n",
      "asm_Length                16963 non-null float64\n",
      "asm_Depth                 16963 non-null float64\n",
      "asm_depth                 16963 non-null float64\n",
      "asm_Depth                 16963 non-null float64\n",
      "asm_parallelism           16963 non-null float64\n",
      "asm_force                 16963 non-null float64\n",
      "asm_Length                16963 non-null float64\n",
      "asm_force                 16963 non-null float64\n",
      "asm_Length                16963 non-null float64\n",
      "asm_torque 1              16963 non-null float64\n",
      "asm_angle 1               16963 non-null float64\n",
      "asm_torque 2              16963 non-null float64\n",
      "asm_angle 2               16963 non-null float64\n",
      "asm_torque 3              16963 non-null float64\n",
      "asm_angle 3               16963 non-null float64\n",
      "asm_torque 1              16963 non-null float64\n",
      "asm_torque 2              16963 non-null float64\n",
      "asm_torque 3              16963 non-null float64\n",
      "asm_angle 1               16963 non-null float64\n",
      "asm_angle 2               16963 non-null float64\n",
      "asm_angle 3               16963 non-null float64\n",
      "asm_torque 1              16963 non-null float64\n",
      "asm_torque 2              16963 non-null float64\n",
      "asm_torque 3              16963 non-null float64\n",
      "asm_torque 4              16963 non-null float64\n",
      "asm_angle 1               16963 non-null float64\n",
      "asm_angle 2               16963 non-null float64\n",
      "asm_angle 3               16963 non-null float64\n",
      "asm_angle 4               16963 non-null float64\n",
      "asm_temperature           16963 non-null float64\n",
      "asm_force                 16963 non-null float64\n",
      "asm_Length                16963 non-null float64\n",
      "asm_force                 16963 non-null float64\n",
      "asm_Temperature           16963 non-null float64\n",
      "asm_angle                 16963 non-null float64\n",
      "asm_torque                16963 non-null float64\n",
      "asm_angle                 16963 non-null float64\n",
      "asm_torque                16963 non-null float64\n",
      "asm_clearance             16963 non-null float64\n",
      "int_weight                16963 non-null float64\n",
      "int_Angle position        16963 non-null float64\n",
      "int_weight                16963 non-null float64\n",
      "int_Angle position        16963 non-null float64\n",
      "int_Tracking, Zone1       16963 non-null int64\n",
      "int_Tracking, Zone2       16963 non-null int64\n",
      "int_Tracking, Zone3       16963 non-null int64\n",
      "int_Tracking, Zone4       16963 non-null int64\n",
      "int_Tracking, Zone1, G    16963 non-null float64\n",
      "int_Tracking, Zone2, G    16963 non-null float64\n",
      "int_Tracking, Zone3, G    16963 non-null float64\n",
      "int_Tracking, Zone4, G    16963 non-null float64\n",
      "int_Shape                 16963 non-null object\n",
      "int_pressure              16963 non-null float64\n",
      "int_flow                  16963 non-null float64\n",
      "int_temperature           16963 non-null float64\n",
      "fin_weight                16234 non-null float64\n",
      "fin_Angle                 16234 non-null float64\n",
      "fin_weight                16234 non-null float64\n",
      "fin_Angle                 16234 non-null float64\n",
      "fin_Tracking, Zoe1        16234 non-null float64\n",
      "fin_Tracking, Zone2       16234 non-null float64\n",
      "fin_Tracking, Zone3       16234 non-null float64\n",
      "fin_Tracking, Zone4       16234 non-null float64\n",
      "fin_Tracking, Zone1, G    16234 non-null float64\n",
      "fin_Tracking, Zone2, G    16234 non-null float64\n",
      "fin_Tracking, Zone3, G    16234 non-null float64\n",
      "fin_Tracking, Zone4, G    16234 non-null float64\n",
      "fin_Shape                 16234 non-null object\n",
      "fin_pressure              16234 non-null float64\n",
      "fin_flow                  16234 non-null float64\n",
      "fin_temperature           16234 non-null float64\n",
      "dtypes: float64(70), int64(4), object(4)\n",
      "memory usage: 10.1+ MB\n"
     ]
    }
   ],
   "source": [
    "# Check data type\n",
    "df.info()"
   ]
  },
  {
   "cell_type": "markdown",
   "metadata": {},
   "source": [
    "Most of the data are number variables. There are `Da`, `Ti`, `int_Shape`, and `fin_Shape` which are categorical variables. These variables shall be encoded afterwards."
   ]
  },
  {
   "cell_type": "code",
   "execution_count": 8,
   "metadata": {},
   "outputs": [],
   "source": [
    "# After this point will be data processing. The initial dataframe shall be backed up first.\n",
    "df_bkup = df"
   ]
  },
  {
   "cell_type": "markdown",
   "metadata": {},
   "source": [
    "# Nan processing\n",
    "This section dedicates for Nan processing. The quick-dirty process is to remove the Nan out. If there is time left, data imputation can be done."
   ]
  },
  {
   "cell_type": "code",
   "execution_count": 9,
   "metadata": {
    "scrolled": true
   },
   "outputs": [
    {
     "data": {
      "text/plain": [
       "Ti                        0.0\n",
       "Da                        0.0\n",
       "asm_Force                 0.0\n",
       "asm_Length                0.0\n",
       "asm_Height                0.0\n",
       "                         ... \n",
       "fin_Tracking, Zone4, G    0.0\n",
       "fin_Shape                 0.0\n",
       "fin_pressure              0.0\n",
       "fin_flow                  0.0\n",
       "fin_temperature           0.0\n",
       "Length: 78, dtype: float64"
      ]
     },
     "execution_count": 9,
     "metadata": {},
     "output_type": "execute_result"
    }
   ],
   "source": [
    "# remove nan\n",
    "df = df.dropna()\n",
    "df.isnull().mean()"
   ]
  },
  {
   "cell_type": "markdown",
   "metadata": {},
   "source": [
    "# Train-test split\n",
    "Do traintestsplit here to avoid information leakage."
   ]
  },
  {
   "cell_type": "code",
   "execution_count": null,
   "metadata": {},
   "outputs": [],
   "source": []
  },
  {
   "cell_type": "markdown",
   "metadata": {},
   "source": [
    "# Transform categorical data to numerical"
   ]
  },
  {
   "cell_type": "code",
   "execution_count": 10,
   "metadata": {
    "scrolled": true
   },
   "outputs": [
    {
     "data": {
      "text/plain": [
       "['asm_Force',\n",
       " 'asm_Length',\n",
       " 'asm_Height',\n",
       " 'asm_Press-fit',\n",
       " 'asm_force',\n",
       " 'asm_Length',\n",
       " 'asm_Depth',\n",
       " 'asm_depth',\n",
       " 'asm_Depth',\n",
       " 'asm_parallelism',\n",
       " 'asm_force',\n",
       " 'asm_Length',\n",
       " 'asm_force',\n",
       " 'asm_Length',\n",
       " 'asm_torque 1',\n",
       " 'asm_angle 1',\n",
       " 'asm_torque 2',\n",
       " 'asm_angle 2',\n",
       " 'asm_torque 3',\n",
       " 'asm_angle 3',\n",
       " 'asm_torque 1',\n",
       " 'asm_torque 2',\n",
       " 'asm_torque 3',\n",
       " 'asm_angle 1',\n",
       " 'asm_angle 2',\n",
       " 'asm_angle 3',\n",
       " 'asm_torque 1',\n",
       " 'asm_torque 2',\n",
       " 'asm_torque 3',\n",
       " 'asm_torque 4',\n",
       " 'asm_angle 1',\n",
       " 'asm_angle 2',\n",
       " 'asm_angle 3',\n",
       " 'asm_angle 4',\n",
       " 'asm_temperature',\n",
       " 'asm_force',\n",
       " 'asm_Length',\n",
       " 'asm_force',\n",
       " 'asm_Temperature',\n",
       " 'asm_angle',\n",
       " 'asm_torque',\n",
       " 'asm_angle',\n",
       " 'asm_torque',\n",
       " 'asm_clearance',\n",
       " 'int_weight',\n",
       " 'int_Angle position ',\n",
       " 'int_weight',\n",
       " 'int_Angle position',\n",
       " 'int_Tracking, Zone1',\n",
       " 'int_Tracking, Zone2',\n",
       " 'int_Tracking, Zone3',\n",
       " 'int_Tracking, Zone4',\n",
       " 'int_Tracking, Zone1, G',\n",
       " 'int_Tracking, Zone2, G',\n",
       " 'int_Tracking, Zone3, G',\n",
       " 'int_Tracking, Zone4, G',\n",
       " 'int_pressure',\n",
       " 'int_flow',\n",
       " 'int_temperature',\n",
       " 'fin_weight',\n",
       " 'fin_Angle',\n",
       " 'fin_weight',\n",
       " 'fin_Angle',\n",
       " 'fin_Tracking, Zoe1',\n",
       " 'fin_Tracking, Zone2',\n",
       " 'fin_Tracking, Zone3',\n",
       " 'fin_Tracking, Zone4',\n",
       " 'fin_Tracking, Zone1, G',\n",
       " 'fin_Tracking, Zone2, G',\n",
       " 'fin_Tracking, Zone3, G',\n",
       " 'fin_Tracking, Zone4, G',\n",
       " 'fin_pressure',\n",
       " 'fin_flow',\n",
       " 'fin_temperature']"
      ]
     },
     "execution_count": 10,
     "metadata": {},
     "output_type": "execute_result"
    }
   ],
   "source": [
    "# distinguish between categorical and numerical var\n",
    "catcols = ['int_Shape', 'fin_Shape']\n",
    "numcols = [c for c in cols[2:] if c not in catcols]\n",
    "numcols"
   ]
  },
  {
   "cell_type": "code",
   "execution_count": 11,
   "metadata": {},
   "outputs": [
    {
     "data": {
      "text/plain": [
       "array(['Ascending', 'V-shape', 'Descending', 'Flat'], dtype=object)"
      ]
     },
     "execution_count": 11,
     "metadata": {},
     "output_type": "execute_result"
    }
   ],
   "source": [
    "df[catcols[0]].unique()"
   ]
  },
  {
   "cell_type": "code",
   "execution_count": 12,
   "metadata": {
    "scrolled": true
   },
   "outputs": [
    {
     "data": {
      "text/plain": [
       "array(['V-shape', 'Ascending', 'Descending', 'Flat'], dtype=object)"
      ]
     },
     "execution_count": 12,
     "metadata": {},
     "output_type": "execute_result"
    }
   ],
   "source": [
    "df[catcols[1]].unique()"
   ]
  },
  {
   "cell_type": "markdown",
   "metadata": {},
   "source": [
    "The two categorical variables have identical categories. This means that there is no missing category in both set."
   ]
  },
  {
   "cell_type": "code",
   "execution_count": 17,
   "metadata": {
    "scrolled": true
   },
   "outputs": [
    {
     "data": {
      "text/html": [
       "<div>\n",
       "<style scoped>\n",
       "    .dataframe tbody tr th:only-of-type {\n",
       "        vertical-align: middle;\n",
       "    }\n",
       "\n",
       "    .dataframe tbody tr th {\n",
       "        vertical-align: top;\n",
       "    }\n",
       "\n",
       "    .dataframe thead th {\n",
       "        text-align: right;\n",
       "    }\n",
       "</style>\n",
       "<table border=\"1\" class=\"dataframe\">\n",
       "  <thead>\n",
       "    <tr style=\"text-align: right;\">\n",
       "      <th></th>\n",
       "      <th>Ti</th>\n",
       "      <th>Da</th>\n",
       "      <th>asm_Force</th>\n",
       "      <th>asm_Length</th>\n",
       "      <th>asm_Height</th>\n",
       "      <th>asm_Press-fit</th>\n",
       "      <th>asm_force</th>\n",
       "      <th>asm_Length</th>\n",
       "      <th>asm_Depth</th>\n",
       "      <th>asm_depth</th>\n",
       "      <th>...</th>\n",
       "      <th>fin_Tracking, Zone4, G</th>\n",
       "      <th>fin_pressure</th>\n",
       "      <th>fin_flow</th>\n",
       "      <th>fin_temperature</th>\n",
       "      <th>int_Shape_Ascending</th>\n",
       "      <th>int_Shape_V-shape</th>\n",
       "      <th>int_Shape_Descending</th>\n",
       "      <th>fin_Shape_V-shape</th>\n",
       "      <th>fin_Shape_Ascending</th>\n",
       "      <th>fin_Shape_Descending</th>\n",
       "    </tr>\n",
       "  </thead>\n",
       "  <tbody>\n",
       "    <tr>\n",
       "      <td>0</td>\n",
       "      <td>02:02:09</td>\n",
       "      <td>03.01.18</td>\n",
       "      <td>0.149</td>\n",
       "      <td>102.52</td>\n",
       "      <td>0.215</td>\n",
       "      <td>12.747</td>\n",
       "      <td>1.094</td>\n",
       "      <td>135.43</td>\n",
       "      <td>1.8541</td>\n",
       "      <td>1.8517</td>\n",
       "      <td>...</td>\n",
       "      <td>0.08</td>\n",
       "      <td>2.915</td>\n",
       "      <td>0.828</td>\n",
       "      <td>88.15</td>\n",
       "      <td>1</td>\n",
       "      <td>0</td>\n",
       "      <td>0</td>\n",
       "      <td>1</td>\n",
       "      <td>0</td>\n",
       "      <td>0</td>\n",
       "    </tr>\n",
       "    <tr>\n",
       "      <td>1</td>\n",
       "      <td>02:02:41</td>\n",
       "      <td>03.01.18</td>\n",
       "      <td>0.163</td>\n",
       "      <td>102.61</td>\n",
       "      <td>0.191</td>\n",
       "      <td>12.731</td>\n",
       "      <td>1.116</td>\n",
       "      <td>135.48</td>\n",
       "      <td>1.8583</td>\n",
       "      <td>1.8556</td>\n",
       "      <td>...</td>\n",
       "      <td>0.12</td>\n",
       "      <td>2.933</td>\n",
       "      <td>1.068</td>\n",
       "      <td>89.14</td>\n",
       "      <td>0</td>\n",
       "      <td>1</td>\n",
       "      <td>0</td>\n",
       "      <td>1</td>\n",
       "      <td>0</td>\n",
       "      <td>0</td>\n",
       "    </tr>\n",
       "    <tr>\n",
       "      <td>2</td>\n",
       "      <td>02:05:06</td>\n",
       "      <td>03.01.18</td>\n",
       "      <td>0.160</td>\n",
       "      <td>102.56</td>\n",
       "      <td>0.192</td>\n",
       "      <td>12.734</td>\n",
       "      <td>1.033</td>\n",
       "      <td>135.48</td>\n",
       "      <td>1.8533</td>\n",
       "      <td>1.8487</td>\n",
       "      <td>...</td>\n",
       "      <td>0.15</td>\n",
       "      <td>2.916</td>\n",
       "      <td>0.828</td>\n",
       "      <td>87.30</td>\n",
       "      <td>0</td>\n",
       "      <td>1</td>\n",
       "      <td>0</td>\n",
       "      <td>1</td>\n",
       "      <td>0</td>\n",
       "      <td>0</td>\n",
       "    </tr>\n",
       "    <tr>\n",
       "      <td>3</td>\n",
       "      <td>02:05:31</td>\n",
       "      <td>03.01.18</td>\n",
       "      <td>0.158</td>\n",
       "      <td>102.47</td>\n",
       "      <td>0.195</td>\n",
       "      <td>12.726</td>\n",
       "      <td>1.079</td>\n",
       "      <td>135.48</td>\n",
       "      <td>1.8578</td>\n",
       "      <td>1.8546</td>\n",
       "      <td>...</td>\n",
       "      <td>0.18</td>\n",
       "      <td>2.925</td>\n",
       "      <td>1.068</td>\n",
       "      <td>88.68</td>\n",
       "      <td>0</td>\n",
       "      <td>1</td>\n",
       "      <td>0</td>\n",
       "      <td>0</td>\n",
       "      <td>1</td>\n",
       "      <td>0</td>\n",
       "    </tr>\n",
       "    <tr>\n",
       "      <td>4</td>\n",
       "      <td>02:08:00</td>\n",
       "      <td>03.01.18</td>\n",
       "      <td>0.154</td>\n",
       "      <td>102.61</td>\n",
       "      <td>0.207</td>\n",
       "      <td>12.752</td>\n",
       "      <td>1.061</td>\n",
       "      <td>135.48</td>\n",
       "      <td>1.8594</td>\n",
       "      <td>1.8543</td>\n",
       "      <td>...</td>\n",
       "      <td>0.23</td>\n",
       "      <td>2.904</td>\n",
       "      <td>0.816</td>\n",
       "      <td>87.29</td>\n",
       "      <td>0</td>\n",
       "      <td>0</td>\n",
       "      <td>1</td>\n",
       "      <td>0</td>\n",
       "      <td>1</td>\n",
       "      <td>0</td>\n",
       "    </tr>\n",
       "  </tbody>\n",
       "</table>\n",
       "<p>5 rows × 82 columns</p>\n",
       "</div>"
      ],
      "text/plain": [
       "         Ti        Da  asm_Force  asm_Length  asm_Height  asm_Press-fit  \\\n",
       "0  02:02:09  03.01.18      0.149      102.52       0.215         12.747   \n",
       "1  02:02:41  03.01.18      0.163      102.61       0.191         12.731   \n",
       "2  02:05:06  03.01.18      0.160      102.56       0.192         12.734   \n",
       "3  02:05:31  03.01.18      0.158      102.47       0.195         12.726   \n",
       "4  02:08:00  03.01.18      0.154      102.61       0.207         12.752   \n",
       "\n",
       "   asm_force  asm_Length  asm_Depth  asm_depth  ...  fin_Tracking, Zone4, G  \\\n",
       "0      1.094      135.43     1.8541     1.8517  ...                    0.08   \n",
       "1      1.116      135.48     1.8583     1.8556  ...                    0.12   \n",
       "2      1.033      135.48     1.8533     1.8487  ...                    0.15   \n",
       "3      1.079      135.48     1.8578     1.8546  ...                    0.18   \n",
       "4      1.061      135.48     1.8594     1.8543  ...                    0.23   \n",
       "\n",
       "   fin_pressure  fin_flow  fin_temperature  int_Shape_Ascending  \\\n",
       "0         2.915     0.828            88.15                    1   \n",
       "1         2.933     1.068            89.14                    0   \n",
       "2         2.916     0.828            87.30                    0   \n",
       "3         2.925     1.068            88.68                    0   \n",
       "4         2.904     0.816            87.29                    0   \n",
       "\n",
       "   int_Shape_V-shape  int_Shape_Descending  fin_Shape_V-shape  \\\n",
       "0                  0                     0                  1   \n",
       "1                  1                     0                  1   \n",
       "2                  1                     0                  1   \n",
       "3                  1                     0                  0   \n",
       "4                  0                     1                  0   \n",
       "\n",
       "   fin_Shape_Ascending  fin_Shape_Descending  \n",
       "0                    0                     0  \n",
       "1                    0                     0  \n",
       "2                    0                     0  \n",
       "3                    1                     0  \n",
       "4                    1                     0  \n",
       "\n",
       "[5 rows x 82 columns]"
      ]
     },
     "execution_count": 17,
     "metadata": {},
     "output_type": "execute_result"
    }
   ],
   "source": [
    "ohe_enc = fe.categorical_encoders.OneHotCategoricalEncoder(\n",
    "    top_categories=None,\n",
    "    variables = catcols,\n",
    "    drop_last=True) # k-1\n",
    "ohe_enc.fit(df)\n",
    "df = ohe_enc.transform(df)\n",
    "df.head()"
   ]
  },
  {
   "cell_type": "code",
   "execution_count": 23,
   "metadata": {},
   "outputs": [
    {
     "name": "stdout",
     "output_type": "stream",
     "text": [
      "Number of initial inspection columns atfter OneHotEncoding:  18\n",
      "Number of final inspection columns atfter OneHotEncoding:  18\n"
     ]
    }
   ],
   "source": [
    "# After modifying the columns, redefine the column names\n",
    "cols_asm, cols_int, cols_fin = redefine_cols(df.columns)\n",
    "print(\"Number of initial inspection columns atfter OneHotEncoding: \", len(cols_int))\n",
    "print(\"Number of final inspection columns atfter OneHotEncoding: \", len(cols_fin))"
   ]
  },
  {
   "cell_type": "markdown",
   "metadata": {},
   "source": [
    "# Scale the numerical data"
   ]
  },
  {
   "cell_type": "code",
   "execution_count": null,
   "metadata": {},
   "outputs": [],
   "source": []
  },
  {
   "cell_type": "markdown",
   "metadata": {},
   "source": [
    "# Discretize the output "
   ]
  },
  {
   "cell_type": "code",
   "execution_count": null,
   "metadata": {},
   "outputs": [],
   "source": []
  }
 ],
 "metadata": {
  "kernelspec": {
   "display_name": "Python 3",
   "language": "python",
   "name": "python3"
  },
  "language_info": {
   "codemirror_mode": {
    "name": "ipython",
    "version": 3
   },
   "file_extension": ".py",
   "mimetype": "text/x-python",
   "name": "python",
   "nbconvert_exporter": "python",
   "pygments_lexer": "ipython3",
   "version": "3.7.4"
  }
 },
 "nbformat": 4,
 "nbformat_minor": 2
}
