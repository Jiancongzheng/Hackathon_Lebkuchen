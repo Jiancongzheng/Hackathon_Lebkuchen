{
 "cells": [
  {
   "cell_type": "code",
   "execution_count": 65,
   "metadata": {},
   "outputs": [],
   "source": [
    "import numpy as np\n",
    "import pandas as pd"
   ]
  },
  {
   "cell_type": "code",
   "execution_count": 66,
   "metadata": {
    "scrolled": true
   },
   "outputs": [
    {
     "data": {
      "text/html": [
       "<div>\n",
       "<style scoped>\n",
       "    .dataframe tbody tr th:only-of-type {\n",
       "        vertical-align: middle;\n",
       "    }\n",
       "\n",
       "    .dataframe tbody tr th {\n",
       "        vertical-align: top;\n",
       "    }\n",
       "\n",
       "    .dataframe thead th {\n",
       "        text-align: right;\n",
       "    }\n",
       "</style>\n",
       "<table border=\"1\" class=\"dataframe\">\n",
       "  <thead>\n",
       "    <tr style=\"text-align: right;\">\n",
       "      <th></th>\n",
       "      <th>Unnamed: 0</th>\n",
       "      <th>Unnamed: 1</th>\n",
       "      <th>Unnamed: 2</th>\n",
       "      <th>Assembly Data</th>\n",
       "      <th>Unnamed: 4</th>\n",
       "      <th>Unnamed: 5</th>\n",
       "      <th>Unnamed: 6</th>\n",
       "      <th>Unnamed: 7</th>\n",
       "      <th>Unnamed: 8</th>\n",
       "      <th>Unnamed: 9</th>\n",
       "      <th>...</th>\n",
       "      <th>Unnamed: 72</th>\n",
       "      <th>Unnamed: 73</th>\n",
       "      <th>Unnamed: 74</th>\n",
       "      <th>Unnamed: 75</th>\n",
       "      <th>Unnamed: 76</th>\n",
       "      <th>Unnamed: 77</th>\n",
       "      <th>Unnamed: 78</th>\n",
       "      <th>Unnamed: 79</th>\n",
       "      <th>Unnamed: 80</th>\n",
       "      <th>Unnamed: 81</th>\n",
       "    </tr>\n",
       "  </thead>\n",
       "  <tbody>\n",
       "    <tr>\n",
       "      <td>0</td>\n",
       "      <td>NaN</td>\n",
       "      <td>NaN</td>\n",
       "      <td>NaN</td>\n",
       "      <td>P13</td>\n",
       "      <td>NaN</td>\n",
       "      <td>NaN</td>\n",
       "      <td>NaN</td>\n",
       "      <td>P15</td>\n",
       "      <td>NaN</td>\n",
       "      <td>P16</td>\n",
       "      <td>...</td>\n",
       "      <td>NaN</td>\n",
       "      <td>NaN</td>\n",
       "      <td>NaN</td>\n",
       "      <td>NaN</td>\n",
       "      <td>NaN</td>\n",
       "      <td>NaN</td>\n",
       "      <td>NaN</td>\n",
       "      <td>NaN</td>\n",
       "      <td>NaN</td>\n",
       "      <td>NaN</td>\n",
       "    </tr>\n",
       "    <tr>\n",
       "      <td>1</td>\n",
       "      <td>Time</td>\n",
       "      <td>Date</td>\n",
       "      <td>NaN</td>\n",
       "      <td>Force #D</td>\n",
       "      <td>Length #E</td>\n",
       "      <td>Height #F</td>\n",
       "      <td>Press-fit #G</td>\n",
       "      <td>force #H</td>\n",
       "      <td>Length #I</td>\n",
       "      <td>Depth #J</td>\n",
       "      <td>...</td>\n",
       "      <td>Tracking, Zone3 #BU</td>\n",
       "      <td>Tracking, Zone4 #BV</td>\n",
       "      <td>Tracking, Zone1, G #BW</td>\n",
       "      <td>Tracking, Zone2, G #BX</td>\n",
       "      <td>Tracking, Zone3, G #BY</td>\n",
       "      <td>Tracking, Zone4, G #BZ</td>\n",
       "      <td>Shape #CA</td>\n",
       "      <td>pressure #CB</td>\n",
       "      <td>flow #CC</td>\n",
       "      <td>temperature #CD</td>\n",
       "    </tr>\n",
       "    <tr>\n",
       "      <td>2</td>\n",
       "      <td>02:02:09</td>\n",
       "      <td>2018-01-03 00:00:00</td>\n",
       "      <td>NaN</td>\n",
       "      <td>0.149</td>\n",
       "      <td>102.52</td>\n",
       "      <td>0.215</td>\n",
       "      <td>12.747</td>\n",
       "      <td>1.094</td>\n",
       "      <td>135.43</td>\n",
       "      <td>1.8541</td>\n",
       "      <td>...</td>\n",
       "      <td>96000</td>\n",
       "      <td>139700</td>\n",
       "      <td>0.14</td>\n",
       "      <td>0.12</td>\n",
       "      <td>0.07</td>\n",
       "      <td>0.08</td>\n",
       "      <td>V-shape</td>\n",
       "      <td>2.915</td>\n",
       "      <td>0.828</td>\n",
       "      <td>88.15</td>\n",
       "    </tr>\n",
       "    <tr>\n",
       "      <td>3</td>\n",
       "      <td>02:02:41</td>\n",
       "      <td>2018-01-03 00:00:00</td>\n",
       "      <td>NaN</td>\n",
       "      <td>0.163</td>\n",
       "      <td>102.61</td>\n",
       "      <td>0.191</td>\n",
       "      <td>12.731</td>\n",
       "      <td>1.116</td>\n",
       "      <td>135.48</td>\n",
       "      <td>1.8583</td>\n",
       "      <td>...</td>\n",
       "      <td>97800</td>\n",
       "      <td>138100</td>\n",
       "      <td>0.16</td>\n",
       "      <td>0.14</td>\n",
       "      <td>0.06</td>\n",
       "      <td>0.12</td>\n",
       "      <td>V-shape</td>\n",
       "      <td>2.933</td>\n",
       "      <td>1.068</td>\n",
       "      <td>89.14</td>\n",
       "    </tr>\n",
       "    <tr>\n",
       "      <td>4</td>\n",
       "      <td>02:05:06</td>\n",
       "      <td>2018-01-03 00:00:00</td>\n",
       "      <td>NaN</td>\n",
       "      <td>0.16</td>\n",
       "      <td>102.56</td>\n",
       "      <td>0.192</td>\n",
       "      <td>12.734</td>\n",
       "      <td>1.033</td>\n",
       "      <td>135.48</td>\n",
       "      <td>1.8533</td>\n",
       "      <td>...</td>\n",
       "      <td>112100</td>\n",
       "      <td>140000</td>\n",
       "      <td>0.04</td>\n",
       "      <td>0.03</td>\n",
       "      <td>0.02</td>\n",
       "      <td>0.15</td>\n",
       "      <td>V-shape</td>\n",
       "      <td>2.916</td>\n",
       "      <td>0.828</td>\n",
       "      <td>87.3</td>\n",
       "    </tr>\n",
       "  </tbody>\n",
       "</table>\n",
       "<p>5 rows × 82 columns</p>\n",
       "</div>"
      ],
      "text/plain": [
       "  Unnamed: 0           Unnamed: 1  Unnamed: 2 Assembly Data Unnamed: 4  \\\n",
       "0        NaN                  NaN         NaN           P13        NaN   \n",
       "1       Time                 Date         NaN      Force #D  Length #E   \n",
       "2   02:02:09  2018-01-03 00:00:00         NaN         0.149     102.52   \n",
       "3   02:02:41  2018-01-03 00:00:00         NaN         0.163     102.61   \n",
       "4   02:05:06  2018-01-03 00:00:00         NaN          0.16     102.56   \n",
       "\n",
       "  Unnamed: 5    Unnamed: 6 Unnamed: 7 Unnamed: 8 Unnamed: 9  ...  \\\n",
       "0        NaN           NaN        P15        NaN        P16  ...   \n",
       "1  Height #F  Press-fit #G   force #H  Length #I   Depth #J  ...   \n",
       "2      0.215        12.747      1.094     135.43     1.8541  ...   \n",
       "3      0.191        12.731      1.116     135.48     1.8583  ...   \n",
       "4      0.192        12.734      1.033     135.48     1.8533  ...   \n",
       "\n",
       "           Unnamed: 72          Unnamed: 73             Unnamed: 74  \\\n",
       "0                  NaN                  NaN                     NaN   \n",
       "1  Tracking, Zone3 #BU  Tracking, Zone4 #BV  Tracking, Zone1, G #BW   \n",
       "2                96000               139700                    0.14   \n",
       "3                97800               138100                    0.16   \n",
       "4               112100               140000                    0.04   \n",
       "\n",
       "              Unnamed: 75             Unnamed: 76             Unnamed: 77  \\\n",
       "0                     NaN                     NaN                     NaN   \n",
       "1  Tracking, Zone2, G #BX  Tracking, Zone3, G #BY  Tracking, Zone4, G #BZ   \n",
       "2                    0.12                    0.07                    0.08   \n",
       "3                    0.14                    0.06                    0.12   \n",
       "4                    0.03                    0.02                    0.15   \n",
       "\n",
       "  Unnamed: 78   Unnamed: 79 Unnamed: 80      Unnamed: 81  \n",
       "0         NaN           NaN         NaN              NaN  \n",
       "1   Shape #CA  pressure #CB    flow #CC  temperature #CD  \n",
       "2     V-shape         2.915       0.828            88.15  \n",
       "3     V-shape         2.933       1.068            89.14  \n",
       "4     V-shape         2.916       0.828             87.3  \n",
       "\n",
       "[5 rows x 82 columns]"
      ]
     },
     "execution_count": 66,
     "metadata": {},
     "output_type": "execute_result"
    }
   ],
   "source": [
    "filename = 'Task4_Description/02_PredQuality_Data1.xlsx'\n",
    "df = pd.read_excel(filename)\n",
    "df.head()"
   ]
  },
  {
   "cell_type": "code",
   "execution_count": 67,
   "metadata": {},
   "outputs": [
    {
     "data": {
      "text/html": [
       "<div>\n",
       "<style scoped>\n",
       "    .dataframe tbody tr th:only-of-type {\n",
       "        vertical-align: middle;\n",
       "    }\n",
       "\n",
       "    .dataframe tbody tr th {\n",
       "        vertical-align: top;\n",
       "    }\n",
       "\n",
       "    .dataframe thead th {\n",
       "        text-align: right;\n",
       "    }\n",
       "</style>\n",
       "<table border=\"1\" class=\"dataframe\">\n",
       "  <thead>\n",
       "    <tr style=\"text-align: right;\">\n",
       "      <th></th>\n",
       "      <th>Time,Date,asm_Force #D,asm_Length #E,asm_Height #F,asm_Press-fit #G,asm_force #H,asm_Length #I,asm_Depth #J,asm_depth #K,asm_Depth #L,asm_parallelism #M,asm_force #N,asm_Length #O,asm_force #P,asm_Length #Q,asm_torque 1 #R,asm_angle 1 #S,asm_torque 2 #T,asm_angle 2 #U,asm_torque 3 #V,asm_angle 3 #W,asm_torque 1 #X,asm_torque 2 #Y,asm_torque 3 #Z,asm_angle 1 #AA,asm_angle 2 #AB,asm_angle 3 #AC,asm_torque 1 #AD,asm_torque 2 #AE,asm_torque 3 #AF,asm_torque 4 #AG,asm_angle 1 #AH,asm_angle 2 #AI,asm_angle 3 #AJ,asm_angle 4 #AK,asm_temperature #AL,asm_force #AM,asm_Length #AN,asm_force #AO,asm_Temperature #AP,asm_angle #AQ,asm_torque #AR,asm_angle #AS,asm_torque #AT,asm_clearance #AU,int_weight #AY,int_Angle position  #AZ,int_weight #BA,int_Angle position #BB,\"int_Tracking, Zone1 #BC\",\"int_Tracking, Zone2 #BD\",\"int_Tracking, Zone3 #BE\",\"int_Tracking, Zone4 #BF\",\"int_Tracking, Zone1, G #BG\",\"int_Tracking, Zone2, G #BH\",\"int_Tracking, Zone3, G #BI\",\"int_Tracking, Zone4, G #BJ\",int_Shape #BK,int_pressure #BL,int_flow #BM,int_temperature #BN,fin_weight #BO,fin_Angle #BP,fin_weight #BQ,fin_Angle #BR,\"fin_Tracking, Zoe1 #BS\",\"fin_Tracking, Zone2 #BT\",\"fin_Tracking, Zone3 #BU\",\"fin_Tracking, Zone4 #BV\",\"fin_Tracking, Zone1, G #BW\",\"fin_Tracking, Zone2, G #BX\",\"fin_Tracking, Zone3, G #BY\",\"fin_Tracking, Zone4, G #BZ\",fin_Shape #CA,fin_pressure #CB,fin_flow #CC,fin_temperature #CD</th>\n",
       "    </tr>\n",
       "  </thead>\n",
       "  <tbody>\n",
       "    <tr>\n",
       "      <td>0</td>\n",
       "      <td>02:02:09,03.01.18,0.149,102.52,0.215,12.747,1....</td>\n",
       "    </tr>\n",
       "    <tr>\n",
       "      <td>1</td>\n",
       "      <td>02:02:41,03.01.18,0.163,102.61,0.191,12.731,1....</td>\n",
       "    </tr>\n",
       "    <tr>\n",
       "      <td>2</td>\n",
       "      <td>02:05:06,03.01.18,0.16,102.56,0.192,12.7340000...</td>\n",
       "    </tr>\n",
       "    <tr>\n",
       "      <td>3</td>\n",
       "      <td>02:05:31,03.01.18,0.158,102.47,0.195,12.725999...</td>\n",
       "    </tr>\n",
       "    <tr>\n",
       "      <td>4</td>\n",
       "      <td>02:08:00,03.01.18,0.154,102.61,0.207,12.752,1....</td>\n",
       "    </tr>\n",
       "  </tbody>\n",
       "</table>\n",
       "</div>"
      ],
      "text/plain": [
       "  Time,Date,asm_Force #D,asm_Length #E,asm_Height #F,asm_Press-fit #G,asm_force #H,asm_Length #I,asm_Depth #J,asm_depth #K,asm_Depth #L,asm_parallelism #M,asm_force #N,asm_Length #O,asm_force #P,asm_Length #Q,asm_torque 1 #R,asm_angle 1 #S,asm_torque 2 #T,asm_angle 2 #U,asm_torque 3 #V,asm_angle 3 #W,asm_torque 1 #X,asm_torque 2 #Y,asm_torque 3 #Z,asm_angle 1 #AA,asm_angle 2 #AB,asm_angle 3 #AC,asm_torque 1 #AD,asm_torque 2 #AE,asm_torque 3 #AF,asm_torque 4 #AG,asm_angle 1 #AH,asm_angle 2 #AI,asm_angle 3 #AJ,asm_angle 4 #AK,asm_temperature #AL,asm_force #AM,asm_Length #AN,asm_force #AO,asm_Temperature #AP,asm_angle #AQ,asm_torque #AR,asm_angle #AS,asm_torque #AT,asm_clearance #AU,int_weight #AY,int_Angle position  #AZ,int_weight #BA,int_Angle position #BB,\"int_Tracking, Zone1 #BC\",\"int_Tracking, Zone2 #BD\",\"int_Tracking, Zone3 #BE\",\"int_Tracking, Zone4 #BF\",\"int_Tracking, Zone1, G #BG\",\"int_Tracking, Zone2, G #BH\",\"int_Tracking, Zone3, G #BI\",\"int_Tracking, Zone4, G #BJ\",int_Shape #BK,int_pressure #BL,int_flow #BM,int_temperature #BN,fin_weight #BO,fin_Angle #BP,fin_weight #BQ,fin_Angle #BR,\"fin_Tracking, Zoe1 #BS\",\"fin_Tracking, Zone2 #BT\",\"fin_Tracking, Zone3 #BU\",\"fin_Tracking, Zone4 #BV\",\"fin_Tracking, Zone1, G #BW\",\"fin_Tracking, Zone2, G #BX\",\"fin_Tracking, Zone3, G #BY\",\"fin_Tracking, Zone4, G #BZ\",fin_Shape #CA,fin_pressure #CB,fin_flow #CC,fin_temperature #CD\n",
       "0  02:02:09,03.01.18,0.149,102.52,0.215,12.747,1....                                                                                                                                                                                                                                                                                                                                                                                                                                                                                                                                                                                                                                                                                                                                                                                                                                                                                                                                                                                                                                                                                                                                                                                                                                                                                                                                                                                          \n",
       "1  02:02:41,03.01.18,0.163,102.61,0.191,12.731,1....                                                                                                                                                                                                                                                                                                                                                                                                                                                                                                                                                                                                                                                                                                                                                                                                                                                                                                                                                                                                                                                                                                                                                                                                                                                                                                                                                                                          \n",
       "2  02:05:06,03.01.18,0.16,102.56,0.192,12.7340000...                                                                                                                                                                                                                                                                                                                                                                                                                                                                                                                                                                                                                                                                                                                                                                                                                                                                                                                                                                                                                                                                                                                                                                                                                                                                                                                                                                                          \n",
       "3  02:05:31,03.01.18,0.158,102.47,0.195,12.725999...                                                                                                                                                                                                                                                                                                                                                                                                                                                                                                                                                                                                                                                                                                                                                                                                                                                                                                                                                                                                                                                                                                                                                                                                                                                                                                                                                                                          \n",
       "4  02:08:00,03.01.18,0.154,102.61,0.207,12.752,1....                                                                                                                                                                                                                                                                                                                                                                                                                                                                                                                                                                                                                                                                                                                                                                                                                                                                                                                                                                                                                                                                                                                                                                                                                                                                                                                                                                                          "
      ]
     },
     "execution_count": 67,
     "metadata": {},
     "output_type": "execute_result"
    }
   ],
   "source": [
    "csvfile = 'csvdata.csv'\n",
    "df = pd.read_csv(csvfile, delimiter=';')\n",
    "df.head()"
   ]
  },
  {
   "cell_type": "code",
   "execution_count": 68,
   "metadata": {},
   "outputs": [
    {
     "data": {
      "text/plain": [
       "Index(['Time,Date,asm_Force #D,asm_Length #E,asm_Height #F,asm_Press-fit #G,asm_force #H,asm_Length #I,asm_Depth #J,asm_depth #K,asm_Depth #L,asm_parallelism #M,asm_force #N,asm_Length #O,asm_force #P,asm_Length #Q,asm_torque 1 #R,asm_angle 1 #S,asm_torque 2 #T,asm_angle 2 #U,asm_torque 3 #V,asm_angle 3 #W,asm_torque 1 #X,asm_torque 2 #Y,asm_torque 3 #Z,asm_angle 1 #AA,asm_angle 2 #AB,asm_angle 3 #AC,asm_torque 1 #AD,asm_torque 2 #AE,asm_torque 3 #AF,asm_torque 4 #AG,asm_angle 1 #AH,asm_angle 2 #AI,asm_angle 3 #AJ,asm_angle 4 #AK,asm_temperature #AL,asm_force #AM,asm_Length #AN,asm_force #AO,asm_Temperature #AP,asm_angle #AQ,asm_torque #AR,asm_angle #AS,asm_torque #AT,asm_clearance #AU,int_weight #AY,int_Angle position  #AZ,int_weight #BA,int_Angle position #BB,\"int_Tracking, Zone1 #BC\",\"int_Tracking, Zone2 #BD\",\"int_Tracking, Zone3 #BE\",\"int_Tracking, Zone4 #BF\",\"int_Tracking, Zone1, G #BG\",\"int_Tracking, Zone2, G #BH\",\"int_Tracking, Zone3, G #BI\",\"int_Tracking, Zone4, G #BJ\",int_Shape #BK,int_pressure #BL,int_flow #BM,int_temperature #BN,fin_weight #BO,fin_Angle #BP,fin_weight #BQ,fin_Angle #BR,\"fin_Tracking, Zoe1 #BS\",\"fin_Tracking, Zone2 #BT\",\"fin_Tracking, Zone3 #BU\",\"fin_Tracking, Zone4 #BV\",\"fin_Tracking, Zone1, G #BW\",\"fin_Tracking, Zone2, G #BX\",\"fin_Tracking, Zone3, G #BY\",\"fin_Tracking, Zone4, G #BZ\",fin_Shape #CA,fin_pressure #CB,fin_flow #CC,fin_temperature #CD'], dtype='object')"
      ]
     },
     "execution_count": 68,
     "metadata": {},
     "output_type": "execute_result"
    }
   ],
   "source": [
    "cols = df.columns\n",
    "cols"
   ]
  },
  {
   "cell_type": "code",
   "execution_count": 69,
   "metadata": {
    "scrolled": true
   },
   "outputs": [
    {
     "data": {
      "text/plain": [
       "0"
      ]
     },
     "execution_count": 69,
     "metadata": {},
     "output_type": "execute_result"
    }
   ],
   "source": [
    "asm_cols = cols[2:46].tolist()\n",
    "asm = ['asm_'+c for c in asm_cols]\n",
    "len(asm)"
   ]
  },
  {
   "cell_type": "code",
   "execution_count": 70,
   "metadata": {
    "scrolled": true
   },
   "outputs": [
    {
     "data": {
      "text/plain": [
       "0"
      ]
     },
     "execution_count": 70,
     "metadata": {},
     "output_type": "execute_result"
    }
   ],
   "source": [
    "init_cols = cols[46:62].tolist()\n",
    "init = ['int_'+c for c in init_cols]\n",
    "len(init)"
   ]
  },
  {
   "cell_type": "code",
   "execution_count": 71,
   "metadata": {},
   "outputs": [
    {
     "data": {
      "text/plain": [
       "0"
      ]
     },
     "execution_count": 71,
     "metadata": {},
     "output_type": "execute_result"
    }
   ],
   "source": [
    "fin_cols = cols[62:].tolist()\n",
    "fin = ['fin_'+c for c in fin_cols]\n",
    "len(fin)"
   ]
  },
  {
   "cell_type": "code",
   "execution_count": 72,
   "metadata": {
    "scrolled": true
   },
   "outputs": [
    {
     "data": {
      "text/plain": [
       "2"
      ]
     },
     "execution_count": 72,
     "metadata": {},
     "output_type": "execute_result"
    }
   ],
   "source": [
    "c = ['Time', 'Date'] + asm+init+fin\n",
    "len(c)"
   ]
  },
  {
   "cell_type": "code",
   "execution_count": 73,
   "metadata": {},
   "outputs": [
    {
     "ename": "ValueError",
     "evalue": "Length mismatch: Expected axis has 1 elements, new values have 2 elements",
     "output_type": "error",
     "traceback": [
      "\u001b[0;31m---------------------------------------------------------------------------\u001b[0m",
      "\u001b[0;31mValueError\u001b[0m                                Traceback (most recent call last)",
      "\u001b[0;32m<ipython-input-73-83b14909b1ab>\u001b[0m in \u001b[0;36m<module>\u001b[0;34m\u001b[0m\n\u001b[0;32m----> 1\u001b[0;31m \u001b[0mdf\u001b[0m\u001b[0;34m.\u001b[0m\u001b[0mcolumns\u001b[0m \u001b[0;34m=\u001b[0m \u001b[0mc\u001b[0m\u001b[0;34m\u001b[0m\u001b[0;34m\u001b[0m\u001b[0m\n\u001b[0m",
      "\u001b[0;32m~/opt/anaconda3/lib/python3.7/site-packages/pandas/core/generic.py\u001b[0m in \u001b[0;36m__setattr__\u001b[0;34m(self, name, value)\u001b[0m\n\u001b[1;32m   5190\u001b[0m         \u001b[0;32mtry\u001b[0m\u001b[0;34m:\u001b[0m\u001b[0;34m\u001b[0m\u001b[0;34m\u001b[0m\u001b[0m\n\u001b[1;32m   5191\u001b[0m             \u001b[0mobject\u001b[0m\u001b[0;34m.\u001b[0m\u001b[0m__getattribute__\u001b[0m\u001b[0;34m(\u001b[0m\u001b[0mself\u001b[0m\u001b[0;34m,\u001b[0m \u001b[0mname\u001b[0m\u001b[0;34m)\u001b[0m\u001b[0;34m\u001b[0m\u001b[0;34m\u001b[0m\u001b[0m\n\u001b[0;32m-> 5192\u001b[0;31m             \u001b[0;32mreturn\u001b[0m \u001b[0mobject\u001b[0m\u001b[0;34m.\u001b[0m\u001b[0m__setattr__\u001b[0m\u001b[0;34m(\u001b[0m\u001b[0mself\u001b[0m\u001b[0;34m,\u001b[0m \u001b[0mname\u001b[0m\u001b[0;34m,\u001b[0m \u001b[0mvalue\u001b[0m\u001b[0;34m)\u001b[0m\u001b[0;34m\u001b[0m\u001b[0;34m\u001b[0m\u001b[0m\n\u001b[0m\u001b[1;32m   5193\u001b[0m         \u001b[0;32mexcept\u001b[0m \u001b[0mAttributeError\u001b[0m\u001b[0;34m:\u001b[0m\u001b[0;34m\u001b[0m\u001b[0;34m\u001b[0m\u001b[0m\n\u001b[1;32m   5194\u001b[0m             \u001b[0;32mpass\u001b[0m\u001b[0;34m\u001b[0m\u001b[0;34m\u001b[0m\u001b[0m\n",
      "\u001b[0;32mpandas/_libs/properties.pyx\u001b[0m in \u001b[0;36mpandas._libs.properties.AxisProperty.__set__\u001b[0;34m()\u001b[0m\n",
      "\u001b[0;32m~/opt/anaconda3/lib/python3.7/site-packages/pandas/core/generic.py\u001b[0m in \u001b[0;36m_set_axis\u001b[0;34m(self, axis, labels)\u001b[0m\n\u001b[1;32m    688\u001b[0m \u001b[0;34m\u001b[0m\u001b[0m\n\u001b[1;32m    689\u001b[0m     \u001b[0;32mdef\u001b[0m \u001b[0m_set_axis\u001b[0m\u001b[0;34m(\u001b[0m\u001b[0mself\u001b[0m\u001b[0;34m,\u001b[0m \u001b[0maxis\u001b[0m\u001b[0;34m,\u001b[0m \u001b[0mlabels\u001b[0m\u001b[0;34m)\u001b[0m\u001b[0;34m:\u001b[0m\u001b[0;34m\u001b[0m\u001b[0;34m\u001b[0m\u001b[0m\n\u001b[0;32m--> 690\u001b[0;31m         \u001b[0mself\u001b[0m\u001b[0;34m.\u001b[0m\u001b[0m_data\u001b[0m\u001b[0;34m.\u001b[0m\u001b[0mset_axis\u001b[0m\u001b[0;34m(\u001b[0m\u001b[0maxis\u001b[0m\u001b[0;34m,\u001b[0m \u001b[0mlabels\u001b[0m\u001b[0;34m)\u001b[0m\u001b[0;34m\u001b[0m\u001b[0;34m\u001b[0m\u001b[0m\n\u001b[0m\u001b[1;32m    691\u001b[0m         \u001b[0mself\u001b[0m\u001b[0;34m.\u001b[0m\u001b[0m_clear_item_cache\u001b[0m\u001b[0;34m(\u001b[0m\u001b[0;34m)\u001b[0m\u001b[0;34m\u001b[0m\u001b[0;34m\u001b[0m\u001b[0m\n\u001b[1;32m    692\u001b[0m \u001b[0;34m\u001b[0m\u001b[0m\n",
      "\u001b[0;32m~/opt/anaconda3/lib/python3.7/site-packages/pandas/core/internals/managers.py\u001b[0m in \u001b[0;36mset_axis\u001b[0;34m(self, axis, new_labels)\u001b[0m\n\u001b[1;32m    181\u001b[0m             raise ValueError(\n\u001b[1;32m    182\u001b[0m                 \u001b[0;34m\"Length mismatch: Expected axis has {old} elements, new \"\u001b[0m\u001b[0;34m\u001b[0m\u001b[0;34m\u001b[0m\u001b[0m\n\u001b[0;32m--> 183\u001b[0;31m                 \u001b[0;34m\"values have {new} elements\"\u001b[0m\u001b[0;34m.\u001b[0m\u001b[0mformat\u001b[0m\u001b[0;34m(\u001b[0m\u001b[0mold\u001b[0m\u001b[0;34m=\u001b[0m\u001b[0mold_len\u001b[0m\u001b[0;34m,\u001b[0m \u001b[0mnew\u001b[0m\u001b[0;34m=\u001b[0m\u001b[0mnew_len\u001b[0m\u001b[0;34m)\u001b[0m\u001b[0;34m\u001b[0m\u001b[0;34m\u001b[0m\u001b[0m\n\u001b[0m\u001b[1;32m    184\u001b[0m             )\n\u001b[1;32m    185\u001b[0m \u001b[0;34m\u001b[0m\u001b[0m\n",
      "\u001b[0;31mValueError\u001b[0m: Length mismatch: Expected axis has 1 elements, new values have 2 elements"
     ]
    }
   ],
   "source": [
    "df.columns = c"
   ]
  },
  {
   "cell_type": "code",
   "execution_count": null,
   "metadata": {},
   "outputs": [],
   "source": [
    "df.head()"
   ]
  },
  {
   "cell_type": "code",
   "execution_count": null,
   "metadata": {},
   "outputs": [],
   "source": [
    "df.to_csv('csvdata_new.csv', index=False)"
   ]
  },
  {
   "cell_type": "code",
   "execution_count": null,
   "metadata": {},
   "outputs": [],
   "source": [
    "df_new = pd.read_csv('csvdata_new.csv')\n",
    "df_new.head()"
   ]
  },
  {
   "cell_type": "code",
   "execution_count": null,
   "metadata": {},
   "outputs": [],
   "source": []
  }
 ],
 "metadata": {
  "kernelspec": {
   "display_name": "Python 3",
   "language": "python",
   "name": "python3"
  },
  "language_info": {
   "codemirror_mode": {
    "name": "ipython",
    "version": 3
   },
   "file_extension": ".py",
   "mimetype": "text/x-python",
   "name": "python",
   "nbconvert_exporter": "python",
   "pygments_lexer": "ipython3",
   "version": "3.7.4"
  }
 },
 "nbformat": 4,
 "nbformat_minor": 2
}
